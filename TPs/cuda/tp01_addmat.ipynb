{
  "nbformat": 4,
  "nbformat_minor": 0,
  "metadata": {
    "colab": {
      "name": "tp01_addmat.ipynb",
      "private_outputs": true,
      "provenance": [],
      "collapsed_sections": []
    },
    "kernelspec": {
      "name": "python3",
      "display_name": "Python 3"
    },
    "accelerator": "GPU"
  },
  "cells": [
    {
      "cell_type": "code",
      "metadata": {
        "id": "au5GDp3hBEUc"
      },
      "source": [
        "!pip install pycuda"
      ],
      "execution_count": null,
      "outputs": []
    },
    {
      "cell_type": "code",
      "metadata": {
        "id": "KIYbZLU6BS-2"
      },
      "source": [
        "import numpy as np\n",
        "import pycuda.driver as cuda\n",
        "import pycuda.autoinit\n",
        "from pycuda.compiler import SourceModule"
      ],
      "execution_count": null,
      "outputs": []
    },
    {
      "cell_type": "markdown",
      "metadata": {
        "id": "DR4fZ6ewqI8-"
      },
      "source": [
        "$\n",
        "\\begin{bmatrix}\n",
        " a_{11} &  \\dots  & a_{1n} \\\\\n",
        " \\vdots &  \\ddots & \\vdots \\\\\n",
        " a_{m1} &  \\dots  & a_{mn}\n",
        "\\end{bmatrix}\n",
        "+\n",
        "\\begin{bmatrix}\n",
        " b_{11} & \\dots  & b_{1n} \\\\\n",
        " \\vdots & \\ddots & \\vdots \\\\\n",
        " b_{m1} & \\dots  & b_{mn}\n",
        "\\end{bmatrix}\n",
        "=\\begin{bmatrix}\n",
        " a_{11} + b_{11} & \\dots  & a_{1n} + b_{1n} \\\\\n",
        "     \\vdots      & \\ddots &     \\vdots      \\\\\n",
        " a_{m1} + b_{m1} & \\dots  & a_{mn} + b_{mn}\n",
        "\\end{bmatrix}\n",
        "$"
      ]
    },
    {
      "cell_type": "code",
      "metadata": {
        "id": "D0iRT0X-qhZX"
      },
      "source": [
        "def add_mat(A,B):\n",
        "  dim1,dim2 = A.shape\n",
        "  C = np.empty_like(A)\n",
        "  for i in range(dim1):\n",
        "    for j in range(dim2):\n",
        "      C[i,j] = A[i,j] + B[i,j]\n",
        "  return C"
      ],
      "execution_count": null,
      "outputs": []
    },
    {
      "cell_type": "markdown",
      "metadata": {
        "id": "7vqJAqubqwPS"
      },
      "source": [
        "#Compléter le kernel"
      ]
    },
    {
      "cell_type": "code",
      "metadata": {
        "id": "n160pp0FBmbT"
      },
      "source": [
        "kernels = SourceModule(\"\"\"\n",
        "// first kernel\n",
        "__global__ void add_mat(float *g_A,float *g_B,float *g_C)\n",
        "{\n",
        "   // each thread compute only one C[i,j]=A[i,j]+B[i,j]\n",
        "   int idx = TODO ;\n",
        "   g_C[idx] = TODO ;\n",
        "}\n",
        "// second kernel\n",
        "__global__ void add_huge_mat(float *g_A,float *g_B,float *g_C,int width)\n",
        "{\n",
        "   // each thread compute  one line of C[i,j]=A[i,j]+B[i,j] for j from 0 to width\n",
        "   // idx is the matrices line number\n",
        "   int idx =  TODO ;\n",
        "   for (int j=0;j<width;j++)\n",
        "      g_C[width*idx+j] = TODO ;\n",
        "}\n",
        "\"\"\")"
      ],
      "execution_count": null,
      "outputs": []
    },
    {
      "cell_type": "markdown",
      "metadata": {
        "id": "NPznmClMqzul"
      },
      "source": [
        "#Initialisation des matrices sur le host"
      ]
    },
    {
      "cell_type": "code",
      "metadata": {
        "id": "1M4TYaZECS-O"
      },
      "source": [
        "h_a = np.random.randn(32,32)\n",
        "h_b = np.random.randn(32,32)\n",
        "h_a = h_a.astype(np.float32)\n",
        "h_b = h_b.astype(np.float32)"
      ],
      "execution_count": null,
      "outputs": []
    },
    {
      "cell_type": "markdown",
      "metadata": {
        "id": "xGS6GL0JrESk"
      },
      "source": [
        "#Lecture du kernel"
      ]
    },
    {
      "cell_type": "code",
      "metadata": {
        "id": "13Q8oAJxCqZm"
      },
      "source": [
        "kadd_mat      = kernels.get_function(\"add_mat\")"
      ],
      "execution_count": null,
      "outputs": []
    },
    {
      "cell_type": "markdown",
      "metadata": {
        "id": "XrVD9HG7rNsa"
      },
      "source": [
        "#Compléter les allocations mémoire et l'écriture sur le device"
      ]
    },
    {
      "cell_type": "code",
      "metadata": {
        "id": "g3FRltdVC3OY"
      },
      "source": [
        "g_A = cuda.mem_alloc(...)\n",
        "g_B = cuda.mem_alloc(...)\n",
        "g_C = cuda.mem_alloc(...)\n",
        "cuda.memcpy_htod(...,...)\n",
        "cuda.memcpy_htod(...,...)\n"
      ],
      "execution_count": null,
      "outputs": []
    },
    {
      "cell_type": "markdown",
      "metadata": {
        "id": "R2wI8fOkrfCt"
      },
      "source": [
        "#Appeler le kernel avec le bon block"
      ]
    },
    {
      "cell_type": "code",
      "metadata": {
        "id": "xm4CM3iKDSdt"
      },
      "source": [
        "kadd_mat(g_A,g_B,g_C,block=(...,...,...))"
      ],
      "execution_count": null,
      "outputs": []
    },
    {
      "cell_type": "markdown",
      "metadata": {
        "id": "N_f3yxt5rsAb"
      },
      "source": [
        "#Récupération du résultat sur le host"
      ]
    },
    {
      "cell_type": "code",
      "metadata": {
        "id": "G_x5O6R0D0us"
      },
      "source": [
        "h_c = np.empty_like(h_a)\n",
        "cuda.memcpy_dtoh(h_c,g_C)"
      ],
      "execution_count": null,
      "outputs": []
    },
    {
      "cell_type": "markdown",
      "metadata": {
        "id": "vsiPQYRdrxnq"
      },
      "source": [
        "#Libération de la mémoire sur le device"
      ]
    },
    {
      "cell_type": "code",
      "metadata": {
        "id": "byGZV5E1ET6t"
      },
      "source": [
        "g_A.free()\n",
        "g_B.free()\n",
        "g_C.free()"
      ],
      "execution_count": null,
      "outputs": []
    },
    {
      "cell_type": "markdown",
      "metadata": {
        "id": "PYjcDrhpr6dL"
      },
      "source": [
        "#Affichage résultat"
      ]
    },
    {
      "cell_type": "code",
      "metadata": {
        "id": "5DkQMpsAEWvh"
      },
      "source": [
        "np.array_equal(h_a+h_b,h_c)"
      ],
      "execution_count": null,
      "outputs": []
    },
    {
      "cell_type": "markdown",
      "metadata": {
        "id": "-ceFba1SsBYo"
      },
      "source": [
        "#Adapter le kernel add_huge_mat afin de prendre en charge les matrices suivantes"
      ]
    },
    {
      "cell_type": "code",
      "metadata": {
        "id": "BzIGRMfKsLgf"
      },
      "source": [
        "h_HA = np.random.randn(1024,1024)\n",
        "h_HB = np.random.randn(1024,1024)\n",
        "h_HA = h_HA.astype(np.float32)\n",
        "h_HB = h_HB.astype(np.float32)"
      ],
      "execution_count": null,
      "outputs": []
    },
    {
      "cell_type": "code",
      "metadata": {
        "id": "OxDgqHkZswuL"
      },
      "source": [
        "g_HA = cuda.mem_alloc(...)\n",
        "g_HB = cuda.mem_alloc(...)\n",
        "g_HC = cuda.mem_alloc(...)"
      ],
      "execution_count": null,
      "outputs": []
    },
    {
      "cell_type": "code",
      "metadata": {
        "id": "6Cuazij_jnsR"
      },
      "source": [
        "cuda.memcpy_htod(...,...)\n",
        "cuda.memcpy_htod(g_HB,h_HB)"
      ],
      "execution_count": null,
      "outputs": []
    },
    {
      "cell_type": "code",
      "metadata": {
        "id": "nyOj-nb7jwEz"
      },
      "source": [
        "dim1,dim2=h_HA.shape\n",
        "# chaque thread prend en charge width operations dans le cas où l'opération\n",
        "#   tombe juste width = nombre d'éléments par matrice / nombre de threads\n",
        "width=np.int32((dim1*dim2)/(32*32))"
      ],
      "execution_count": null,
      "outputs": []
    },
    {
      "cell_type": "code",
      "metadata": {
        "id": "4VkInkokEMSJ"
      },
      "source": [
        "kadd_huge_mat = kernels.get_function(\"add_huge_mat\")"
      ],
      "execution_count": null,
      "outputs": []
    },
    {
      "cell_type": "code",
      "metadata": {
        "id": "-3V5VwyMkL08"
      },
      "source": [
        "kadd_huge_mat(g_HA,g_HB,g_HC,width,block=(32,32,1))"
      ],
      "execution_count": null,
      "outputs": []
    },
    {
      "cell_type": "code",
      "metadata": {
        "id": "2usIewCYkX__"
      },
      "source": [
        "h_HC = np.empty_like(h_HA)\n",
        "cuda.memcpy_dtoh(h_HC,g_HC)"
      ],
      "execution_count": null,
      "outputs": []
    },
    {
      "cell_type": "code",
      "metadata": {
        "id": "GW8EQ77mkkH2"
      },
      "source": [
        "g_HA.free()\n",
        "g_HB.free()\n",
        "g_HC.free()"
      ],
      "execution_count": null,
      "outputs": []
    }
  ]
}