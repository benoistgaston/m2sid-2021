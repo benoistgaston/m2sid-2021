{
  "nbformat": 4,
  "nbformat_minor": 0,
  "metadata": {
    "accelerator": "GPU",
    "colab": {
      "name": "tp03_dotvec.ipynb",
      "private_outputs": true,
      "provenance": [],
      "collapsed_sections": []
    },
    "kernelspec": {
      "display_name": "Python 3",
      "language": "python",
      "name": "python3"
    },
    "language_info": {
      "codemirror_mode": {
        "name": "ipython",
        "version": 3
      },
      "file_extension": ".py",
      "mimetype": "text/x-python",
      "name": "python",
      "nbconvert_exporter": "python",
      "pygments_lexer": "ipython3",
      "version": "3.7.1"
    }
  },
  "cells": [
    {
      "cell_type": "code",
      "metadata": {
        "id": "au5GDp3hBEUc"
      },
      "source": [
        "!pip install pycuda"
      ],
      "execution_count": null,
      "outputs": []
    },
    {
      "cell_type": "code",
      "metadata": {
        "id": "KIYbZLU6BS-2"
      },
      "source": [
        "import numpy as np\n",
        "import pycuda.driver as cuda\n",
        "import pycuda.autoinit\n",
        "from pycuda.compiler import SourceModule"
      ],
      "execution_count": null,
      "outputs": []
    },
    {
      "cell_type": "markdown",
      "metadata": {
        "id": "Ks4c1T5vDRf4"
      },
      "source": [
        "## Produit scalaire"
      ]
    },
    {
      "cell_type": "markdown",
      "metadata": {
        "id": "DR4fZ6ewqI8-"
      },
      "source": [
        "$$\n",
        "\\begin{bmatrix}\n",
        "a_1,a_2,\\dots,a_n\n",
        "\\end{bmatrix}\n",
        "\\times\n",
        "\\begin{bmatrix}\n",
        "b_1,b_2,\\dots,b_n\n",
        "\\end{bmatrix}\n",
        "=\n",
        "a_1b_1+a_2b_2+,\\dots,+a_nb_n\n",
        "$$"
      ]
    },
    {
      "cell_type": "markdown",
      "metadata": {
        "id": "Rypc42Xhu8q9"
      },
      "source": [
        "## Fonction dot_vec en python"
      ]
    },
    {
      "cell_type": "code",
      "metadata": {
        "id": "cxMbEtMVvAQn"
      },
      "source": [
        "def dot_vec(va,vb):\n",
        "  adim = va.size\n",
        "  #bdim=vb.size ; bdim == adim\n",
        "  res = np.zeros(adim)\n",
        "  for i in range(adim):\n",
        "    res[i] += va[i]*vb[i]\n",
        "  dotprod = sum(res[:])\n",
        "  return dotprod"
      ],
      "execution_count": null,
      "outputs": []
    },
    {
      "cell_type": "markdown",
      "metadata": {
        "id": "7vqJAqubqwPS"
      },
      "source": [
        "## Compléter le kernel"
      ]
    },
    {
      "cell_type": "code",
      "metadata": {
        "id": "n160pp0FBmbT"
      },
      "source": [
        "kernels = SourceModule(\"\"\"\n",
        "__global__ void dot_vec(float *veca, float *vecb, float *res)\n",
        "{\n",
        "   int idx =  TODO ;\n",
        "   res[idx] = TODO ;\n",
        "}\n",
        "\"\"\")"
      ],
      "execution_count": null,
      "outputs": []
    },
    {
      "cell_type": "markdown",
      "metadata": {
        "id": "NPznmClMqzul"
      },
      "source": [
        "## Initialisation des vecteurs sur le host"
      ]
    },
    {
      "cell_type": "code",
      "metadata": {
        "id": "1M4TYaZECS-O"
      },
      "source": [
        "va = np.random.randn(1024)\n",
        "vb = np.random.randn(1024)\n",
        "va = va.astype(np.float32)\n",
        "vb = vb.astype(np.float32)\n",
        "h_res = ..."
      ],
      "execution_count": null,
      "outputs": []
    },
    {
      "cell_type": "code",
      "metadata": {
        "id": "vIyc8OjAvxZ_"
      },
      "source": [
        "dot_vec(va,vb)"
      ],
      "execution_count": null,
      "outputs": []
    },
    {
      "cell_type": "markdown",
      "metadata": {
        "id": "xGS6GL0JrESk"
      },
      "source": [
        "## Lecture du kernel"
      ]
    },
    {
      "cell_type": "code",
      "metadata": {
        "id": "13Q8oAJxCqZm"
      },
      "source": [
        "kdot_vec=kernels.get_function(\"dot_vec\")"
      ],
      "execution_count": null,
      "outputs": []
    },
    {
      "cell_type": "markdown",
      "metadata": {
        "id": "XrVD9HG7rNsa"
      },
      "source": [
        "## Allocations mémoire et copie sur le device"
      ]
    },
    {
      "cell_type": "code",
      "metadata": {
        "id": "g3FRltdVC3OY"
      },
      "source": [
        "g_va = cuda.mem_alloc(va.nbytes)\n",
        "g_vb = cuda.mem_alloc(vb.nbytes)\n",
        "g_res = cuda.mem_alloc(...) TODO\n",
        "cuda.memcpy_htod(g_va,va)\n",
        "cuda.memcpy_htod(g_vb,vb)"
      ],
      "execution_count": null,
      "outputs": []
    },
    {
      "cell_type": "markdown",
      "metadata": {
        "id": "R2wI8fOkrfCt"
      },
      "source": [
        "## Appeler le kernel avec le bon block"
      ]
    },
    {
      "cell_type": "code",
      "metadata": {
        "id": "xm4CM3iKDSdt"
      },
      "source": [
        "kdot_vec(g_va,g_vb,g_res, ,block=(...,...,...))"
      ],
      "execution_count": null,
      "outputs": []
    },
    {
      "cell_type": "markdown",
      "metadata": {
        "id": "N_f3yxt5rsAb"
      },
      "source": [
        "## Récupération du résultat sur le host"
      ]
    },
    {
      "cell_type": "code",
      "metadata": {
        "id": "G_x5O6R0D0us"
      },
      "source": [
        "cuda.memcpy_dtoh(h_res,g_res)"
      ],
      "execution_count": null,
      "outputs": []
    },
    {
      "cell_type": "markdown",
      "metadata": {
        "id": "vsiPQYRdrxnq"
      },
      "source": [
        "## Libération de la mémoire sur le devcice"
      ]
    },
    {
      "cell_type": "code",
      "metadata": {
        "id": "byGZV5E1ET6t"
      },
      "source": [
        "g_va.free()\n",
        "g_vb.free()\n",
        "g_res.free()"
      ],
      "execution_count": null,
      "outputs": []
    },
    {
      "cell_type": "markdown",
      "metadata": {
        "id": "PYjcDrhpr6dL"
      },
      "source": [
        "## Finalisation du calcul sur le host"
      ]
    },
    {
      "cell_type": "code",
      "metadata": {
        "id": "5DkQMpsAEWvh"
      },
      "source": [
        "dotprod = sum(h_res[:])"
      ],
      "execution_count": null,
      "outputs": []
    },
    {
      "cell_type": "markdown",
      "metadata": {
        "id": "iNZVA_-CMQG6"
      },
      "source": [
        "## Modifier le kernel pour faire la somme sur le device"
      ]
    }
  ]
}