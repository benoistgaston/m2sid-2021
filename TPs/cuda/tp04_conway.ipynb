{
  "nbformat": 4,
  "nbformat_minor": 0,
  "metadata": {
    "colab": {
      "name": "tp04_conway.ipynb",
      "private_outputs": true,
      "provenance": [],
      "collapsed_sections": []
    },
    "kernelspec": {
      "name": "python3",
      "display_name": "Python 3"
    },
    "accelerator": "GPU"
  },
  "cells": [
    {
      "cell_type": "markdown",
      "metadata": {
        "id": "KO_tqXswl-j8"
      },
      "source": [
        "# Jeu de la vie"
      ]
    },
    {
      "cell_type": "markdown",
      "metadata": {
        "id": "GhmC_LdumrKc"
      },
      "source": [
        "## installation de pycuda et import des packages"
      ]
    },
    {
      "cell_type": "code",
      "metadata": {
        "id": "Zo-0mwz8RCsr"
      },
      "source": [
        "!pip install pycuda"
      ],
      "execution_count": null,
      "outputs": []
    },
    {
      "cell_type": "code",
      "metadata": {
        "id": "mQ-I4_FHRmCV"
      },
      "source": [
        "import numpy as np\n",
        "import pycuda.driver as cuda\n",
        "import pycuda.autoinit\n",
        "from pycuda.compiler import SourceModule"
      ],
      "execution_count": null,
      "outputs": []
    },
    {
      "cell_type": "markdown",
      "metadata": {
        "id": "veFs3AJ0h7gX"
      },
      "source": [
        "## Fonctions de bases \n",
        "- Définition de init_grid qui permet d'initialiser une grille $n\\times  n$ aléatoirement. La graine est fixée à 0 pour des raisons de reproductibilité\n",
        "- Définition de enlarge_grid qui permet d'élargir la grille et donc de s'abstenir de gérer les cas particulier des bords\n",
        "- Définition de stat_alive qui permet de donner des statistiques sur le nombre de cellules vivantes dans une grille (élargie)"
      ]
    },
    {
      "cell_type": "code",
      "metadata": {
        "id": "fLDRNlqzRm-K"
      },
      "source": [
        "def init_grid(n):\n",
        "  # for parallel issues fix the same seed on each process\n",
        "  np.random.seed(0)\n",
        "  grid = np.random.randint(2,size=(n,n))\n",
        "  return grid"
      ],
      "execution_count": null,
      "outputs": []
    },
    {
      "cell_type": "code",
      "metadata": {
        "id": "fpwWOHYfRqUg"
      },
      "source": [
        "def enlarge_grid(grid):\n",
        "  irange,jrange=grid.shape\n",
        "  res_grid=np.zeros((irange+2,jrange+2))\n",
        "  res_grid[1:irange+1,1:jrange+1]=grid[:,:]\n",
        "  return res_grid"
      ],
      "execution_count": null,
      "outputs": []
    },
    {
      "cell_type": "code",
      "metadata": {
        "id": "1EjOW6nOR7-d"
      },
      "source": [
        "def statalive(egrid):\n",
        "    irange=egrid.shape[0]\n",
        "    jrange=egrid.shape[1]\n",
        "    if irange-2 <= 0 or jrange-2 <=0:\n",
        "        return 0,0\n",
        "    else:\n",
        "        nalive=np.count_nonzero(egrid[1:irange,1:jrange])\n",
        "        return nalive,100*nalive/((irange-2)*(jrange-2))\n"
      ],
      "execution_count": null,
      "outputs": []
    },
    {
      "cell_type": "markdown",
      "metadata": {
        "id": "t-9Fmv7di1MS"
      },
      "source": [
        "## Coeur de calcul : evolution\n",
        "- Définition de evolution(grid) qui prend en entrée une grille élargie et retourne la grille résultantde l'application des règles du jeu de la vie à cette grille"
      ]
    },
    {
      "cell_type": "code",
      "metadata": {
        "id": "HhGAUKNWRv2g"
      },
      "source": [
        "def evolution(grid):\n",
        "  irange,jrange=grid.shape\n",
        "  res_grid=np.zeros((irange,jrange))\n",
        "  for i in range(1,irange-1):\n",
        "      for j in range(1,jrange-1):\n",
        "          nb_neigh=0\n",
        "          #ligne dessus\n",
        "          nb_neigh+=grid[i-1,j-1]+grid[i-1,j]+grid[i-1,j+1]\n",
        "          #ligne courante\n",
        "          nb_neigh+=grid[i,j-1]+grid[i,j+1]\n",
        "          #ligne dessous\n",
        "          nb_neigh+=grid[i+1,j-1]+grid[i+1,j]+grid[i+1,j+1]\n",
        "          if nb_neigh==2:\n",
        "              res_grid[i,j]=grid[i,j]\n",
        "          elif nb_neigh==3:\n",
        "              res_grid[i,j]=1\n",
        "  return res_grid\n"
      ],
      "execution_count": null,
      "outputs": []
    },
    {
      "cell_type": "markdown",
      "metadata": {
        "id": "4SC_f2m2jh8y"
      },
      "source": [
        "## Fonction principale gamelife\n",
        "- Définition de gamelife qui a partir d'une grille appel n itérations de evolution et affiche le résultat final"
      ]
    },
    {
      "cell_type": "code",
      "metadata": {
        "id": "jzNjCcs2SA5c"
      },
      "source": [
        "def gamelife(grid,n):\n",
        "    import matplotlib.pyplot as plt\n",
        "    egrid=enlarge_grid(grid)\n",
        "    for iter in range(n):\n",
        "        egrid=evolution(egrid)\n",
        "        nalive,percent=statalive(egrid)\n",
        "    print(\"{0} cellules vivantes soit {1:.2f} %\".format(nalive,percent))\n",
        "    plt.figure()\n",
        "    plt.imshow(egrid[1:egrid.shape[0]-1,1:egrid.shape[1]-1])\n",
        "    "
      ],
      "execution_count": null,
      "outputs": []
    },
    {
      "cell_type": "markdown",
      "metadata": {
        "id": "Hfv8Rp7uj-ML"
      },
      "source": [
        "## Création d'une grille $32\\times 32$"
      ]
    },
    {
      "cell_type": "code",
      "metadata": {
        "id": "4cHmvzipkkdC"
      },
      "source": [
        "grid=init_grid(32)"
      ],
      "execution_count": null,
      "outputs": []
    },
    {
      "cell_type": "markdown",
      "metadata": {
        "id": "xAIplbrUkG-9"
      },
      "source": [
        "## Appel à gamelife sur 10 itérations"
      ]
    },
    {
      "cell_type": "code",
      "metadata": {
        "id": "98vWHNE0SFUA"
      },
      "source": [
        "gamelife(grid,10)"
      ],
      "execution_count": null,
      "outputs": []
    },
    {
      "cell_type": "markdown",
      "metadata": {
        "id": "BgjtWPFZlMyi"
      },
      "source": [
        "## Définition du kernel conway qui calcule evolution sur gpu à compléter"
      ]
    },
    {
      "cell_type": "code",
      "metadata": {
        "id": "mYRRBflCWAQn"
      },
      "source": [
        "kernels = SourceModule(\"\"\"\n",
        "__global__ void conway(int *res_grid,int *input_grid)\n",
        "{\n",
        "   /* /!\\ Attention res_grid et input_grid sont des grilles elargies\n",
        "      Par consequent il faut penser a decaler l'indice\n",
        "      /!\\ ATTENTION 2 le bloc de thread est dimensionne a la taille de la grille\n",
        "          initiale non elargie, encore une fois il faut penser egalement aux \n",
        "          indices\n",
        "   */\n",
        "   // position ix,iy de la cellule\n",
        "   int ix = TODO;\n",
        "   int iy = TODO;\n",
        "   int neighbs = 0;\n",
        "   // ligne du dessus\n",
        "   neighbs += TODO ;\n",
        "   // ligne courante\n",
        "   neighbs += TODO ;\n",
        "   // ligne du dessous\n",
        "   neighbs += TODO ;\n",
        "   if(neighbs < 2 || neighbs > 3)\n",
        "   {\n",
        "      TODO;\n",
        "   }\n",
        "   else\n",
        "   {\n",
        "      if(neighbs == 3)\n",
        "      {\n",
        "         TODO;\n",
        "      }\n",
        "      if(neighbs == 2)\n",
        "      {\n",
        "         TODO;\n",
        "      }\n",
        "   }              \n",
        "}\n",
        "\"\"\")"
      ],
      "execution_count": null,
      "outputs": []
    },
    {
      "cell_type": "markdown",
      "metadata": {
        "id": "tAHy7y5ekwSK"
      },
      "source": [
        "##Définition de g_gamelife qui doit appliquer le kernel conway à compléter "
      ]
    },
    {
      "cell_type": "code",
      "metadata": {
        "id": "zWb_IzFQZ4ZO"
      },
      "source": [
        "def g_gamelife(grid,n):\n",
        "    import matplotlib.pyplot as plt\n",
        "    xdim,ydim = grid.shape\n",
        "    egrid     = enlarge_grid(grid)\n",
        "    egrid     = egrid.astype(np.int32)\n",
        "    g_input   = cuda.mem_alloc(egrid.nbytes)\n",
        "    g_output  = cuda.mem_alloc(egrid.nbytes)\n",
        "    gconway   = kernels.get_function(\"conway\")\n",
        "    for iter in range(n):\n",
        "        cuda.memcpy_htod(g_input,egrid)\n",
        "        cuda.memcpy_htod(g_output,egrid)\n",
        "        # TODO\n",
        "        gconway(g_output,g_input,block=(...,...,1))\n",
        "        cuda.memcpy_dtoh(egrid,g_output)\n",
        "    nalive,percent = statalive(egrid)\n",
        "    print(f\"{nalive} cellules vivantes soit {percent:.2f} %\")\n",
        "    g_input.free()\n",
        "    g_output.free()\n",
        "    plt.figure()\n",
        "    plt.imshow(egrid)"
      ],
      "execution_count": null,
      "outputs": []
    },
    {
      "cell_type": "markdown",
      "metadata": {
        "id": "RvXkm0nEmmt-"
      },
      "source": [
        "## Appel à gamelife sur 10 itérations"
      ]
    },
    {
      "cell_type": "code",
      "metadata": {
        "id": "6YbYRjVrdWqC"
      },
      "source": [
        "g_gamelife(grid,10)"
      ],
      "execution_count": null,
      "outputs": []
    }
  ]
}